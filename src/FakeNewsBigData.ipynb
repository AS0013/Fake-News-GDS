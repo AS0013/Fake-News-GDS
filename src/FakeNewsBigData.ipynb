{
 "cells": [
  {
   "cell_type": "code",
   "execution_count": 1,
   "metadata": {},
   "outputs": [],
   "source": [
    "import re\n",
    "import pandas as pd\n",
    "import nltk\n",
    "# nltk.download('punkt') ----> udkommenter denne linje, hvis du ikke har nltk installeret\n",
    "import matplotlib.pyplot as plt\n",
    "from nltk.corpus import stopwords\n",
    "# nltk.download('stopwords')\n",
    "from nltk.stem import PorterStemmer\n",
    "\n",
    "# to clean data faster we'll use the multiprocessing library\n",
    "from multiprocessing import Pool\n",
    "\n",
    "# to clean data even faster we'll use the dask library to parallelize the cleaning process\n",
    "import dask.dataframe as dd\n",
    "\n",
    "import sklearn as sk"
   ]
  },
  {
   "cell_type": "code",
   "execution_count": 2,
   "metadata": {},
   "outputs": [],
   "source": [
    "data = pd.read_csv('995,000_rows.csv',dtype = str)\n",
    "\n",
    "# read only the first 1000 rows of the file\n",
    "\n",
    "# first_1000 = pd.read_csv('995,000_rows.csv', nrows=1000, dtype=str)\n",
    "\n",
    "# print(data.head())\n",
    "\n",
    "def cleanText(text):\n",
    "    # lower case\n",
    "    if not isinstance(text, str):\n",
    "        text = str(text)\n",
    "    \n",
    "    if isinstance(text, str):\n",
    "        text = text.lower()\n",
    "\n",
    "    # should not contain multiple spaces, tabs or newlines\n",
    "    text = re.sub(r'\\s+', ' ', text)\n",
    "\n",
    "    # date and time stuff\n",
    "    # text = re.sub(r'\\b(?:the )?(\\d{1,2})(?:st|nd|rd|th)?\\s*(?:of\\s+)?(January|February|March|April|May|June|July|August|September|October|November|December)\\b', '<DATE>', text)\n",
    "    # text = re.sub(r'r\"([a-zA-Z]{3}\\s\\d{1,2}\\s\\d{4})\"', '<DATE>', text, flags=re.IGNORECASE)\n",
    "    # text = re.sub(r'\\b(?:the )?(\\d{1,2})(?:st|nd|rd|th)?(?: of)?(?: (?:jan(?:uary)?|feb(?:ruary)?|mar(?:ch)?|apr(?:il)?|may|jun(?:e)?|jul(?:y)?|aug(?:ust)?|sep(?:tember)?|oct(?:ober)?|nov(?:ember)?|dec(?:ember)?))(?: (\\d{4}|\\d{2}))?\\b', '<DATE>', text)\n",
    "    # text = re.sub(r'\\b(?:the )?(\\d{1,2})(?:st|nd|rd|th)?(?: of)?(?: (?:jan(?:uary)?|feb(?:ruary)?|mar(?:ch)?|apr(?:il)?|may|jun(?:e)?|jul(?:y)?|aug(?:ust)?|sep(?:tember)?|oct(?:ober)?|nov(?:ember)?|dec(?:ember)?|Jan(?:uary)?|Feb(?:ruary)?|Mar(?:ch)?|Apr(?:il)?|May|Jun(?:e)?|Jul(?:y)?|Aug(?:ust)?|Sep(?:tember)?|Oct(?:ober)?|Nov(?:ember)?|Dec(?:ember)?))(?: (\\d{4}|\\d{2}))?\\b', '<DATE>', text)\n",
    "\n",
    "    # replace dates with <DATE>\n",
    "    #  january 18, 2018. jan 18, 2018. 2018-01-18\n",
    "    date_pattern = r'\\b(?:jan(?:uary)?|feb(?:ruary)?|mar(?:ch)?|apr(?:il)?|may|jun(?:e)?|jul(?:y)?|aug(?:ust)?|sep(?:tember)?|oct(?:ober)?|nov(?:ember)?|dec(?:ember)?)\\s+\\d{1,2}(?:,\\s+|\\s+)\\d{4}\\b|\\b\\d{4}-\\d{2}-\\d{2}\\b'\n",
    "\n",
    "    # date_pattern = r'\\b(?:jan(?:uary)?|feb(?:ruary)?|mar(?:ch)?|apr(?:il)?|may|jun(?:e)?|jul(?:y)?|aug(?:ust)?|sep(?:tember)?|oct(?:ober)?|nov(?:ember)?|dec(?:ember)?)\\s+\\d{1,2},\\s+\\d{4}\\b|\\b\\d{4}-\\d{2}-\\d{2}\\b'\n",
    "    text = re.sub(date_pattern, '<DATE>', text)\n",
    "    # nov. 5\n",
    "    date_pattern2 = r'\\b(?:jan(?:uary)?|feb(?:ruary)?|mar(?:ch)?|apr(?:il)?|may|jun(?:e)?|jul(?:y)?|aug(?:ust)?|sep(?:tember)?|oct(?:ober)?|nov(?:ember)?|dec(?:ember)?)\\.\\s+\\d{1,2}\\b'\n",
    "    text = re.sub(date_pattern2, '<DATE>', text)\n",
    "\n",
    "    # text = re.sub(r'\\b(?:\\d{1,2}[-/th|st|nd|rd\\s]*)?(?:Jan(?:uary)?|Feb(?:ruary)?|Mar(?:ch)?|Apr(?:il)?|May|Jun(?:e)?|Jul(?:y)?|Aug(?:ust)?|Sep(?:tember)?|Oct(?:ober)?|Nov(?:ember)?|Dec(?:ember)?)(?:\\s*(?:\\d{1,2}[-/th|st|nd|rd\\s]*))?(?:\\s*(?:\\d{4}|\\d{2}))?\\b', '<DATE>', text)\n",
    "\n",
    "\n",
    "    # replace numbers with <NUM>\n",
    "    text = re.sub(r'\\d+', '<NUM>', text)\n",
    "\n",
    "    # replace urls with <URL>\n",
    "    text = re.sub(r'(http|https)://[^\\s]*', '<URL>', text)\n",
    "\n",
    "    # replace emails with <EMAIL>\n",
    "    text = re.sub(r'\\b[\\w\\.-]+@[\\w\\.-]+\\.\\w{2,4}\\b', '<EMAIL>', text)\n",
    "\n",
    "\n",
    "    # remove punctuation\n",
    "    text = re.sub(r'[^\\w\\s]', '', text)\n",
    "\n",
    "    return text\n",
    "\n",
    "# data['content'] = data['content'].apply(cleanText)\n",
    "\n",
    "# data.to_csv('cleaned_Bigdata.csv', index=False)\n",
    "\n"
   ]
  },
  {
   "cell_type": "code",
   "execution_count": 4,
   "metadata": {},
   "outputs": [
    {
     "name": "stdout",
     "output_type": "stream",
     "text": [
      "type\n",
      "reliable                      218564\n",
      "political                     194518\n",
      "bias                          133232\n",
      "fake                          104883\n",
      "conspiracy                     97314\n",
      "rumor                          56445\n",
      "unknown                        43534\n",
      "unreliable                     35332\n",
      "clickbait                      27412\n",
      "junksci                        14040\n",
      "satire                         13160\n",
      "hate                            8779\n",
      "2018-02-10 13:43:39.521661         1\n",
      "Name: count, dtype: int64\n",
      "Missing type: 47786\n",
      "Total rows: 995000\n",
      "type\n",
      "reliable                      218564\n",
      "political                     194518\n",
      "bias                          133232\n",
      "fake                          104883\n",
      "conspiracy                     97314\n",
      "rumor                          56445\n",
      "unknown                        43534\n",
      "unreliable                     35332\n",
      "clickbait                      27412\n",
      "junksci                        14040\n",
      "satire                         13160\n",
      "hate                            8779\n",
      "2018-02-10 13:43:39.521661         1\n",
      "Name: count, dtype: int64\n",
      "there are 683 different domains\n",
      "Missing content:---------------- 12\n"
     ]
    }
   ],
   "source": [
    "# print(data['type'])\n",
    "\n",
    "# counting the number of each type of news\n",
    "type_count = data['type'].value_counts()\n",
    "print(type_count)\n",
    "\n",
    "# see if there are any missing values in ['type']\n",
    "missing_type = data['type'].isnull().sum()\n",
    "print('Missing type:', missing_type)\n",
    "\n",
    "# see if the sum of the missing values and the number of each type of news is equal to the total number of rows\n",
    "total_rows = data.shape[0]\n",
    "print('Total rows:', total_rows)\n",
    "\n",
    "# counting the number of each type of news\n",
    "type_count = data['type'].value_counts()\n",
    "print(type_count)\n",
    "\n",
    "# see how many different domains there are\n",
    "domain_count = data['domain'].value_counts()\n",
    "print(\"there are\", len(domain_count), \"different domains\")\n",
    "\n",
    "# see if theres any empty 'content' fields in the data\n",
    "missing_content = data['content'].isnull().sum()\n",
    "print('Missing content:----------------', missing_content)\n",
    "\n",
    "\n"
   ]
  },
  {
   "cell_type": "code",
   "execution_count": 5,
   "metadata": {},
   "outputs": [
    {
     "name": "stdout",
     "output_type": "stream",
     "text": [
      "domain                             type                      \n",
      "100percentfedup.com                bias                            10\n",
      "2016-11-13T15:38:41.407+02:00      2018-02-10 13:43:39.521661       1\n",
      "21stcenturywire.com                conspiracy                    2352\n",
      "4threvolutionarywar.wordpress.com  bias                           631\n",
      "70news.wordpress.com               fake                           261\n",
      "                                                                 ... \n",
      "yournationnews.com                 clickbait                        4\n",
      "yournewswire.com                   clickbait                     1230\n",
      "zeenews.india.com                  reliable                       299\n",
      "zerohedge.com                      conspiracy                    4185\n",
      "zootfeed.com                       conspiracy                      22\n",
      "Length: 619, dtype: int64\n",
      "type\n",
      "reliable                      218564\n",
      "political                     194518\n",
      "bias                          133232\n",
      "fake                          104883\n",
      "conspiracy                     97314\n",
      "rumor                          56445\n",
      "unknown                        43534\n",
      "unreliable                     35332\n",
      "clickbait                      27412\n",
      "junksci                        14040\n",
      "satire                         13160\n",
      "hate                            8779\n",
      "2018-02-10 13:43:39.521661         1\n",
      "Name: count, dtype: int64\n"
     ]
    },
    {
     "data": {
      "image/png": "[encoded data removed]",
      "text/plain": [
       "<Figure size 1200x700 with 1 Axes>"
      ]
     },
     "metadata": {},
     "output_type": "display_data"
    },
    {
     "name": "stdout",
     "output_type": "stream",
     "text": [
      "Reliable percent: 21.966231155778896\n"
     ]
    }
   ],
   "source": [
    "# see how many domains are in the dataset\n",
    "domains = data['domain'].value_counts()\n",
    "# print(domains)\n",
    "\n",
    "# see if there are any missing values in ['domain']\n",
    "missing_domain = data['domain'].isnull().sum()\n",
    "# print('Missing domain:', missing_domain)\n",
    "\n",
    "# see if how many domains have 'reliable' as their type\n",
    "reliable_domains = data[data['type'] == 'reliable']['domain'].value_counts()\n",
    "# print(reliable_domains)\n",
    "\n",
    "# see for each domain how many reliable and fake news articles they have\n",
    "reliable_fake = data.groupby(['domain', 'type']).size()\n",
    "print(reliable_fake)\n",
    "\n",
    "\n",
    "# see how many diferent types there are and print them\n",
    "types = data['type'].value_counts()\n",
    "print(types)\n",
    "\n",
    "\n",
    "# plot 10 domains with the most articles and their type\n",
    "\n",
    "reliable_fake = reliable_fake.unstack()\n",
    "# fillna(0) replaces all NaN values with 0\n",
    "reliable_fake = reliable_fake.fillna(0)\n",
    "reliable_fake['total'] = reliable_fake['reliable'] + reliable_fake['fake'] + reliable_fake['satire'] + reliable_fake['bias'] + reliable_fake['conspiracy'] + reliable_fake['hate']+ reliable_fake['junksci'] + reliable_fake['clickbait'] + reliable_fake['unreliable'] + reliable_fake['political'] + reliable_fake['rumor'] + reliable_fake['unknown'] \n",
    "reliable_fake = reliable_fake.sort_values(by='total', ascending=False)\n",
    "reliable_fake = reliable_fake.head(10)\n",
    "reliable_fake = reliable_fake.drop(columns='total')\n",
    "reliable_fake.plot(kind='bar', stacked=True, figsize=(12, 7))\n",
    "plt.show()\n",
    "\n",
    "\n",
    "# print what percent of the articles are of type reliable\n",
    "reliable_percent = types['reliable'] / total_rows * 100\n",
    "print('Reliable percent:', reliable_percent)\n",
    "\n"
   ]
  },
  {
   "cell_type": "code",
   "execution_count": 7,
   "metadata": {},
   "outputs": [],
   "source": [
    "# print(first_10['content'])\n",
    "# first_10['content'] = first_10['content'].astype(str)\n",
    "# # convert to csv\n",
    "# # first_10.to_csv('first_10.csv', index=False)\n",
    "\n",
    "# # # lower case\n",
    "# first_10['content'] = first_10['content'].str.lower()\n",
    "\n",
    "# # # should not contain multiple spaces, tabs or newlines\n",
    "# first_10['content'] = first_10['content'].str.replace(r'[\\s\\xa0]+', ' ', regex=True)\n",
    "\n",
    "# # remove punctuation\n",
    "# first_10['content'] = first_10['content'].str.replace(r'[^\\w\\s]', '', regex=True)\n",
    "\n",
    "# first_10.to_csv('first_10_cleaned.csv', index=False)"
   ]
  },
  {
   "cell_type": "code",
   "execution_count": 3,
   "metadata": {},
   "outputs": [
    {
     "name": "stdout",
     "output_type": "stream",
     "text": [
      "Total rows after removing missing values: 545376\n",
      "finished cleaning the data\n"
     ]
    }
   ],
   "source": [
    "# print('Total rows:', total_rows)\n",
    "# data['content'] = data['content'].astype(str)\n",
    "# remove the rows with missing values in the 'type' column and in the 'content' column\n",
    "data = data.dropna(subset=['type', 'content'])\n",
    "\n",
    "# replace 'political' and 'clickbait' with 'reliable'\n",
    "data['type'] = data['type'].replace(['political', 'clickbait'], 'reliable')\n",
    "\n",
    "#  remove all the other types of news except 'reliable' and 'fake'\n",
    "data = data[data['type'].isin(['reliable', 'fake'])]\n",
    "\n",
    "\n",
    "print('Total rows after removing missing values:', data.shape[0])\n",
    "data['content'] = data['content'].apply(cleanText)\n",
    "\n",
    "# likely have to tokenize and stem the data like in the previous assignment, and then remove stopwords and count the vocabulary size\n",
    "# data['content'] = data['content'].apply(cleanText)\n",
    "\n",
    "# convert the first 50 rows to a csv file\n",
    "# data.head(50).to_csv('before_cleaning.csv', index=False)\n",
    "\n",
    "\n",
    "# # try cleaning it using the vectorized string methods\n",
    "# data['content'] = data['content'].str.lower()\n",
    "# # should not contain multiple spaces, tabs or newlines\n",
    "# # text = re.sub(r'\\s+', ' ', text)\n",
    "# data['content'] = data['content'].str.replace(r'\\s+', ' ', regex=True)\n",
    "\n",
    "# # data.head(50).to_csv('aftercleaning_cleaning.csv', index=False)\n",
    "# # replace dates with <DATE>\n",
    "# date_pattern = r'\\b(?:jan(?:uary)?|feb(?:ruary)?|mar(?:ch)?|apr(?:il)?|may|jun(?:e)?|jul(?:y)?|aug(?:ust)?|sep(?:tember)?|oct(?:ober)?|nov(?:ember)?|dec(?:ember)?)\\s+\\d{1,2}(?:,\\s+|\\s+)\\d{4}\\b|\\b\\d{4}-\\d{2}-\\d{2}\\b'\n",
    "\n",
    "# # date_pattern = r'\\b(?:jan(?:uary)?|feb(?:ruary)?|mar(?:ch)?|apr(?:il)?|may|jun(?:e)?|jul(?:y)?|aug(?:ust)?|sep(?:tember)?|oct(?:ober)?|nov(?:ember)?|dec(?:ember)?)\\s+\\d{1,2},\\s+\\d{4}\\b|\\b\\d{4}-\\d{2}-\\d{2}\\b'\n",
    "# # text = re.sub(date_pattern, '<DATE>', text)\n",
    "# data['content'] = data['content'].str.replace(date_pattern, '<DATE>', regex=True)\n",
    "# # nov. 5\n",
    "# date_pattern2 = r'\\b(?:jan(?:uary)?|feb(?:ruary)?|mar(?:ch)?|apr(?:il)?|may|jun(?:e)?|jul(?:y)?|aug(?:ust)?|sep(?:tember)?|oct(?:ober)?|nov(?:ember)?|dec(?:ember)?)\\.\\s+\\d{1,2}\\b'\n",
    "# # text = re.sub(date_pattern2, '<DATE>', text)\n",
    "# data['content'] = data['content'].str.replace(date_pattern2, '<DATE>', regex=True)\n",
    "\n",
    "# # replace numbers with <NUM>\n",
    "# # text = re.sub(r'\\d+', '<NUM>', text)\n",
    "# data['content'] = data['content'].str.replace(r'\\d+', '<NUM>', regex=True)\n",
    "\n",
    "\n",
    "# # replace urls with <URL>\n",
    "# # text = re.sub(r'(http|https)://[^\\s]*', '<URL>', text)\n",
    "# data['content'] = data['content'].str.replace(r'(http|https)://[^\\s]*', '<URL>', regex=True)\n",
    "\n",
    "# # replace emails with <EMAIL>\n",
    "# # text = re.sub(r'\\b[\\w\\.-]+@[\\w\\.-]+\\.\\w{2,4}\\b', '<EMAIL>', text)\n",
    "# data['content'] = data['content'].str.replace(r'\\b[\\w\\.-]+@[\\w\\.-]+\\.\\w{2,4}\\b', '<EMAIL>', regex=True)\n",
    "\n",
    "# # remove punctuation\n",
    "# # text = re.sub(r'[^\\w\\s]', '', text)\n",
    "# data['content'] = data['content'].str.replace(r'[^\\w\\s]', '', regex=True)\n",
    "\n",
    "# data.head(50).to_csv('aftercleaning_cleaning.csv', index=False)\n",
    "\n",
    "print(\"finished cleaning the data\")\n",
    "\n"
   ]
  },
  {
   "cell_type": "code",
   "execution_count": 4,
   "metadata": {},
   "outputs": [],
   "source": [
    "# tokenize the data\n",
    "data['tokens'] = data['content'].apply(nltk.word_tokenize)\n",
    "\n",
    "\n"
   ]
  },
  {
   "cell_type": "code",
   "execution_count": 3,
   "metadata": {},
   "outputs": [
    {
     "name": "stdout",
     "output_type": "stream",
     "text": [
      "finished stemming the data\n"
     ]
    }
   ],
   "source": [
    "\n",
    "# nltk.download('snowball_data')\n",
    "# stem the data\n",
    "from nltk.stem.snowball import SnowballStemmer\n",
    "\n",
    "stop_words = set(stopwords.words('english'))\n",
    "stemmer = SnowballStemmer(\"english\")\n",
    "# stemmed_data = [stemmer.stem(token) for token in filtered_tokens]\n",
    "def process_tokens(tokens):\n",
    "    # remove stopwords\n",
    "    filtered_tokens = [token for token in tokens if token not in stop_words]\n",
    "\n",
    "    # stemming\n",
    "    stemmed_tokens = [stemmer.stem(token) for token in filtered_tokens]\n",
    "\n",
    "    return stemmed_tokens\n",
    "\n",
    "# remove stopwords\n",
    "# stop_words = set(stopwords.words('english'))\n",
    "# filtered_tokens = [token for token in tokens if token not in stop_words]\n",
    "# data['processed_tokens'] = data['tokens'].apply(process_tokens)\n",
    "\n",
    "# remove rows that have empty 'content' or empty 'type' from the first 1000 rows\n",
    "# first_1000 = first_1000.dropna(subset=['content', 'type'])\n",
    "\n",
    "# try on the 1000 data\n",
    "# first_1000['content'] = first_1000['content'].astype(str)\n",
    "# first_1000['content'] = first_1000['content'].apply(cleanText)\n",
    "# first_1000['tokens'] = first_1000['content'].apply(nltk.word_tokenize)\n",
    "# first_1000['processed_tokens'] = first_1000['tokens'].apply(process_tokens).apply(lambda x: ' '.join(x))\n",
    "\n",
    "# other good data\n",
    "# data['processed_tokens'] = data['tokens'].apply(process_tokens).apply(lambda x: ' '.join(x))\n",
    "\n",
    "# read the cleaned_stemmed file to test it all\n",
    "cleaned_stemmed = pd.read_csv('995,000_cleaned_stemmed2.csv', dtype=str)\n",
    "\n",
    "# remove rows that have empty 'content' or empty 'type' from the cleaned_stemmed file\n",
    "# cleaned_stemmed = cleaned_stemmed.dropna(subset=['content', 'type'])\n",
    "print(\"finished stemming the data\")\n",
    "# print(data.columns)\n",
    "# print(cleaned_stemmed.columns)\n"
   ]
  },
  {
   "cell_type": "code",
   "execution_count": 4,
   "metadata": {},
   "outputs": [
    {
     "name": "stdout",
     "output_type": "stream",
     "text": [
      "Total rows after removing missing values: 691768\n",
      "type\n",
      "reliable    440493\n",
      "fake        251275\n",
      "Name: count, dtype: int64\n",
      "Reliable percent: 63.6764059626927\n"
     ]
    }
   ],
   "source": [
    "cleaned_stemmed = cleaned_stemmed.dropna(subset=['type', 'content'])\n",
    "\n",
    "# replace 'political' and 'clickbait' with 'reliable'\n",
    "cleaned_stemmed['type'] = cleaned_stemmed['type'].replace(['political', 'clickbait'], 'reliable')\n",
    "\n",
    "# replace 'bias' and 'satite' with 'fake'\n",
    "cleaned_stemmed['type'] = cleaned_stemmed['type'].replace(['bias', 'satire'], 'fake')\n",
    "#  remove all the other types of news except 'reliable' and 'fake'\n",
    "cleaned_stemmed = cleaned_stemmed[cleaned_stemmed['type'].isin(['reliable', 'fake'])]\n",
    "\n",
    "print('Total rows after removing missing values:', cleaned_stemmed.shape[0]) \n",
    "\n",
    "print(cleaned_stemmed['type'].value_counts())\n",
    "\n",
    "# percent reliable\n",
    "reliable_percent = cleaned_stemmed['type'].value_counts()['reliable'] / cleaned_stemmed.shape[0] * 100\n",
    "print('Reliable percent:', reliable_percent)"
   ]
  },
  {
   "cell_type": "code",
   "execution_count": 6,
   "metadata": {},
   "outputs": [],
   "source": [
    "# convert first 1000 to csv\n",
    "# first_1000.to_csv('cleaned_first_1000.csv', index=False)\n",
    "\n",
    "# convert the data to csv\n",
    "data.to_csv('cleaned_tokenized_stemmed_Bigdata.csv', index=False)"
   ]
  },
  {
   "cell_type": "code",
   "execution_count": 8,
   "metadata": {},
   "outputs": [
    {
     "name": "stdout",
     "output_type": "stream",
     "text": [
      "Index(['Unnamed: 0', 'id', 'domain', 'type', 'url', 'content', 'scraped_at',\n",
      "       'inserted_at', 'updated_at', 'title', 'authors', 'keywords',\n",
      "       'meta_keywords', 'meta_description', 'tags', 'summary', 'source',\n",
      "       'tokens', 'processed_tokens'],\n",
      "      dtype='object')\n"
     ]
    }
   ],
   "source": [
    "# convert the first 50 rows to a csv file\n",
    "# data.head(50).to_csv('cleaned_Bigdata.csv', index=False)\n",
    "\n",
    "print(data.columns)\n",
    "\n"
   ]
  },
  {
   "cell_type": "code",
   "execution_count": 1,
   "metadata": {},
   "outputs": [
    {
     "ename": "NameError",
     "evalue": "name 'data' is not defined",
     "output_type": "error",
     "traceback": [
      "\u001b[1;31m---------------------------------------------------------------------------\u001b[0m",
      "\u001b[1;31mNameError\u001b[0m                                 Traceback (most recent call last)",
      "Cell \u001b[1;32mIn[1], line 1\u001b[0m\n\u001b[1;32m----> 1\u001b[0m \u001b[38;5;28mprint\u001b[39m(data\u001b[38;5;241m.\u001b[39mcolumns)\n",
      "\u001b[1;31mNameError\u001b[0m: name 'data' is not defined"
     ]
    }
   ],
   "source": [
    "print(data.columns)"
   ]
  },
  {
   "cell_type": "code",
   "execution_count": 29,
   "metadata": {},
   "outputs": [
    {
     "name": "stdout",
     "output_type": "stream",
     "text": [
      "Number of rows left: 545376\n"
     ]
    }
   ],
   "source": [
    "\n",
    "# X = CountVectorizer.fit_transform(first_1000['processed_tokens'])\n",
    "# 'reliable', 'political', 'clickbait' make them all have 'type' reliable\n",
    "cleaned_stemmed['type'] = cleaned_stemmed['type'].replace(['political', 'clickbait'], 'reliable')\n",
    "\n",
    "#  remove all the other types of news except 'reliable' and 'fake'\n",
    "cleaned_stemmed = cleaned_stemmed[cleaned_stemmed['type'].isin(['reliable', 'fake'])]\n",
    "\n",
    "# number of rows left\n",
    "print('Number of rows left:', cleaned_stemmed.shape[0])\n",
    "\n"
   ]
  },
  {
   "cell_type": "code",
   "execution_count": 5,
   "metadata": {},
   "outputs": [],
   "source": [
    "# using sklean to split the data training, validation and test data. 80% training, 10% validation and 10% test\n",
    "# from nltk.stem import PorterStemmer\n",
    "from sklearn.feature_extraction.text import CountVectorizer\n",
    "from sklearn.feature_extraction.text import TfidfVectorizer\n",
    "\n",
    "\n",
    "CountVectorizer = CountVectorizer()\n",
    "\n",
    "from sklearn.model_selection import train_test_split\n",
    "\n",
    "# X = CountVectorizer.fit_transform(cleaned_stemmed['content'])\n",
    "# X = CountVectorizer.fit_transform(data['processed_tokens'])\n",
    "\n",
    "tfidvec = TfidfVectorizer(stop_words='english',max_df=0.7) #max_df=0.7 means that we ignore terms that appear in more than 70% of the documents, and only focus on the less frequent ones, which could be more informative\n",
    "X = tfidvec.fit_transform(cleaned_stemmed['content'])\n",
    "\n",
    "\n",
    "X_train, X_test_1, y_train, y_test_1  = train_test_split(X, cleaned_stemmed['type'], test_size=0.2, random_state=42)\n",
    "X_val, X_test, y_val, y_test = train_test_split(X_test_1, y_test_1, test_size=0.5, random_state=42)\n",
    "\n",
    "# print(\"X_train: \", X_train)"
   ]
  },
  {
   "cell_type": "code",
   "execution_count": 6,
   "metadata": {},
   "outputs": [
    {
     "name": "stderr",
     "output_type": "stream",
     "text": [
      "c:\\Users\\atta_\\anaconda3\\Lib\\site-packages\\sklearn\\linear_model\\_logistic.py:460: ConvergenceWarning: lbfgs failed to converge (status=1):\n",
      "STOP: TOTAL NO. of ITERATIONS REACHED LIMIT.\n",
      "\n",
      "Increase the number of iterations (max_iter) or scale the data as shown in:\n",
      "    https://scikit-learn.org/stable/modules/preprocessing.html\n",
      "Please also refer to the documentation for alternative solver options:\n",
      "    https://scikit-learn.org/stable/modules/linear_model.html#logistic-regression\n",
      "  n_iter_i = _check_optimize_result(\n"
     ]
    },
    {
     "data": {
      "text/html": [
       "<style>#sk-container-id-1 {color: black;}#sk-container-id-1 pre{padding: 0;}#sk-container-id-1 div.sk-toggleable {background-color: white;}#sk-container-id-1 label.sk-toggleable__label {cursor: pointer;display: block;width: 100%;margin-bottom: 0;padding: 0.3em;box-sizing: border-box;text-align: center;}#sk-container-id-1 label.sk-toggleable__label-arrow:before {content: \"▸\";float: left;margin-right: 0.25em;color: #696969;}#sk-container-id-1 label.sk-toggleable__label-arrow:hover:before {color: black;}#sk-container-id-1 div.sk-estimator:hover label.sk-toggleable__label-arrow:before {color: black;}#sk-container-id-1 div.sk-toggleable__content {max-height: 0;max-width: 0;overflow: hidden;text-align: left;background-color: #f0f8ff;}#sk-container-id-1 div.sk-toggleable__content pre {margin: 0.2em;color: black;border-radius: 0.25em;background-color: #f0f8ff;}#sk-container-id-1 input.sk-toggleable__control:checked~div.sk-toggleable__content {max-height: 200px;max-width: 100%;overflow: auto;}#sk-container-id-1 input.sk-toggleable__control:checked~label.sk-toggleable__label-arrow:before {content: \"▾\";}#sk-container-id-1 div.sk-estimator input.sk-toggleable__control:checked~label.sk-toggleable__label {background-color: #d4ebff;}#sk-container-id-1 div.sk-label input.sk-toggleable__control:checked~label.sk-toggleable__label {background-color: #d4ebff;}#sk-container-id-1 input.sk-hidden--visually {border: 0;clip: rect(1px 1px 1px 1px);clip: rect(1px, 1px, 1px, 1px);height: 1px;margin: -1px;overflow: hidden;padding: 0;position: absolute;width: 1px;}#sk-container-id-1 div.sk-estimator {font-family: monospace;background-color: #f0f8ff;border: 1px dotted black;border-radius: 0.25em;box-sizing: border-box;margin-bottom: 0.5em;}#sk-container-id-1 div.sk-estimator:hover {background-color: #d4ebff;}#sk-container-id-1 div.sk-parallel-item::after {content: \"\";width: 100%;border-bottom: 1px solid gray;flex-grow: 1;}#sk-container-id-1 div.sk-label:hover label.sk-toggleable__label {background-color: #d4ebff;}#sk-container-id-1 div.sk-serial::before {content: \"\";position: absolute;border-left: 1px solid gray;box-sizing: border-box;top: 0;bottom: 0;left: 50%;z-index: 0;}#sk-container-id-1 div.sk-serial {display: flex;flex-direction: column;align-items: center;background-color: white;padding-right: 0.2em;padding-left: 0.2em;position: relative;}#sk-container-id-1 div.sk-item {position: relative;z-index: 1;}#sk-container-id-1 div.sk-parallel {display: flex;align-items: stretch;justify-content: center;background-color: white;position: relative;}#sk-container-id-1 div.sk-item::before, #sk-container-id-1 div.sk-parallel-item::before {content: \"\";position: absolute;border-left: 1px solid gray;box-sizing: border-box;top: 0;bottom: 0;left: 50%;z-index: -1;}#sk-container-id-1 div.sk-parallel-item {display: flex;flex-direction: column;z-index: 1;position: relative;background-color: white;}#sk-container-id-1 div.sk-parallel-item:first-child::after {align-self: flex-end;width: 50%;}#sk-container-id-1 div.sk-parallel-item:last-child::after {align-self: flex-start;width: 50%;}#sk-container-id-1 div.sk-parallel-item:only-child::after {width: 0;}#sk-container-id-1 div.sk-dashed-wrapped {border: 1px dashed gray;margin: 0 0.4em 0.5em 0.4em;box-sizing: border-box;padding-bottom: 0.4em;background-color: white;}#sk-container-id-1 div.sk-label label {font-family: monospace;font-weight: bold;display: inline-block;line-height: 1.2em;}#sk-container-id-1 div.sk-label-container {text-align: center;}#sk-container-id-1 div.sk-container {/* jupyter's `normalize.less` sets `[hidden] { display: none; }` but bootstrap.min.css set `[hidden] { display: none !important; }` so we also need the `!important` here to be able to override the default hidden behavior on the sphinx rendered scikit-learn.org. See: https://github.com/scikit-learn/scikit-learn/issues/21755 */display: inline-block !important;position: relative;}#sk-container-id-1 div.sk-text-repr-fallback {display: none;}</style><div id=\"sk-container-id-1\" class=\"sk-top-container\"><div class=\"sk-text-repr-fallback\"><pre>LogisticRegression(max_iter=3000, random_state=42)</pre><b>In a Jupyter environment, please rerun this cell to show the HTML representation or trust the notebook. <br />On GitHub, the HTML representation is unable to render, please try loading this page with nbviewer.org.</b></div><div class=\"sk-container\" hidden><div class=\"sk-item\"><div class=\"sk-estimator sk-toggleable\"><input class=\"sk-toggleable__control sk-hidden--visually\" id=\"sk-estimator-id-1\" type=\"checkbox\" checked><label for=\"sk-estimator-id-1\" class=\"sk-toggleable__label sk-toggleable__label-arrow\">LogisticRegression</label><div class=\"sk-toggleable__content\"><pre>LogisticRegression(max_iter=3000, random_state=42)</pre></div></div></div></div></div>"
      ],
      "text/plain": [
       "LogisticRegression(max_iter=3000, random_state=42)"
      ]
     },
     "execution_count": 6,
     "metadata": {},
     "output_type": "execute_result"
    }
   ],
   "source": [
    "from sklearn.linear_model import LogisticRegression\n",
    "from sklearn.preprocessing import StandardScaler\n",
    "\n",
    "logistic_model = LogisticRegression(max_iter=3500, random_state=42)\n",
    "\n",
    "\n",
    "\n",
    "scale = StandardScaler(with_mean=False)\n",
    "\n",
    "X_train = scale.fit_transform(X_train)\n",
    "X_val = scale.transform(X_val)\n",
    "\n",
    "logistic_model.fit(X_train, y_train)"
   ]
  },
  {
   "cell_type": "code",
   "execution_count": 7,
   "metadata": {},
   "outputs": [
    {
     "name": "stdout",
     "output_type": "stream",
     "text": [
      "accuracy:  0.8262283707012447\n"
     ]
    }
   ],
   "source": [
    "from sklearn.metrics import accuracy_score, precision_score, recall_score, f1_score\n",
    "\n",
    "y_pred = logistic_model.predict(X_val)\n",
    "accuracy = accuracy_score(y_val, y_pred)\n",
    "print(\"accuracy: \", accuracy)\n",
    "# print(\"precision score: \", precision_score(y_val, y_pred, average='weighted'))\n",
    "# print(\"recall score: \", recall_score(y_val, y_pred, average='weighted'))\n",
    "# print(\"f1 score: \", f1_score(y_val, y_pred, average='weighted'))\n"
   ]
  },
  {
   "cell_type": "code",
   "execution_count": 11,
   "metadata": {},
   "outputs": [
    {
     "name": "stderr",
     "output_type": "stream",
     "text": [
      "c:\\Users\\atta_\\anaconda3\\Lib\\site-packages\\sklearn\\svm\\_classes.py:32: FutureWarning: The default value of `dual` will change from `True` to `'auto'` in 1.5. Set the value of `dual` explicitly to suppress the warning.\n",
      "  warnings.warn(\n",
      "c:\\Users\\atta_\\anaconda3\\Lib\\site-packages\\sklearn\\svm\\_base.py:1242: ConvergenceWarning: Liblinear failed to converge, increase the number of iterations.\n",
      "  warnings.warn(\n"
     ]
    },
    {
     "name": "stdout",
     "output_type": "stream",
     "text": [
      "accuracy:  0.809821183341284\n"
     ]
    }
   ],
   "source": [
    "# now trying a different model\n",
    "\n",
    "from sklearn import svm\n",
    "\n",
    "clf = svm.LinearSVC(max_iter=5000, random_state=42)\n",
    "\n",
    "clf.fit(X_train, y_train)\n",
    "\n",
    "y_pred = clf.predict(X_val)\n",
    "\n",
    "accuracy = accuracy_score(y_val, y_pred)\n",
    "print(\"accuracy: \", accuracy)"
   ]
  },
  {
   "cell_type": "code",
   "execution_count": null,
   "metadata": {},
   "outputs": [],
   "source": [
    "# trying a different model\n",
    "\n",
    "\n",
    "\n",
    "# tfidvec = TfidfVectorizer(stop_words='english',max_df=0.7) #max_df=0.7 means that we ignore terms that appear in more than 70% of the documents, and only focus on the less frequent ones, which could be more informative\n",
    "# X = tfidvec.fit_transform(cleaned_stemmed['content'])\n",
    "\n",
    "# X_train, X_test_1, t_train, t_test_1  = train_test_split(X, cleaned_stemmed['type'], test_size=0.2, random_state=42)\n",
    "# X_val, X_test, t_val, t_test = train_test_split(X_test_1, t_test_1, test_size=0.5, random_state=42)\n",
    "\n",
    "\n"
   ]
  },
  {
   "cell_type": "code",
   "execution_count": 12,
   "metadata": {},
   "outputs": [
    {
     "data": {
      "text/html": [
       "<style>#sk-container-id-2 {color: black;}#sk-container-id-2 pre{padding: 0;}#sk-container-id-2 div.sk-toggleable {background-color: white;}#sk-container-id-2 label.sk-toggleable__label {cursor: pointer;display: block;width: 100%;margin-bottom: 0;padding: 0.3em;box-sizing: border-box;text-align: center;}#sk-container-id-2 label.sk-toggleable__label-arrow:before {content: \"▸\";float: left;margin-right: 0.25em;color: #696969;}#sk-container-id-2 label.sk-toggleable__label-arrow:hover:before {color: black;}#sk-container-id-2 div.sk-estimator:hover label.sk-toggleable__label-arrow:before {color: black;}#sk-container-id-2 div.sk-toggleable__content {max-height: 0;max-width: 0;overflow: hidden;text-align: left;background-color: #f0f8ff;}#sk-container-id-2 div.sk-toggleable__content pre {margin: 0.2em;color: black;border-radius: 0.25em;background-color: #f0f8ff;}#sk-container-id-2 input.sk-toggleable__control:checked~div.sk-toggleable__content {max-height: 200px;max-width: 100%;overflow: auto;}#sk-container-id-2 input.sk-toggleable__control:checked~label.sk-toggleable__label-arrow:before {content: \"▾\";}#sk-container-id-2 div.sk-estimator input.sk-toggleable__control:checked~label.sk-toggleable__label {background-color: #d4ebff;}#sk-container-id-2 div.sk-label input.sk-toggleable__control:checked~label.sk-toggleable__label {background-color: #d4ebff;}#sk-container-id-2 input.sk-hidden--visually {border: 0;clip: rect(1px 1px 1px 1px);clip: rect(1px, 1px, 1px, 1px);height: 1px;margin: -1px;overflow: hidden;padding: 0;position: absolute;width: 1px;}#sk-container-id-2 div.sk-estimator {font-family: monospace;background-color: #f0f8ff;border: 1px dotted black;border-radius: 0.25em;box-sizing: border-box;margin-bottom: 0.5em;}#sk-container-id-2 div.sk-estimator:hover {background-color: #d4ebff;}#sk-container-id-2 div.sk-parallel-item::after {content: \"\";width: 100%;border-bottom: 1px solid gray;flex-grow: 1;}#sk-container-id-2 div.sk-label:hover label.sk-toggleable__label {background-color: #d4ebff;}#sk-container-id-2 div.sk-serial::before {content: \"\";position: absolute;border-left: 1px solid gray;box-sizing: border-box;top: 0;bottom: 0;left: 50%;z-index: 0;}#sk-container-id-2 div.sk-serial {display: flex;flex-direction: column;align-items: center;background-color: white;padding-right: 0.2em;padding-left: 0.2em;position: relative;}#sk-container-id-2 div.sk-item {position: relative;z-index: 1;}#sk-container-id-2 div.sk-parallel {display: flex;align-items: stretch;justify-content: center;background-color: white;position: relative;}#sk-container-id-2 div.sk-item::before, #sk-container-id-2 div.sk-parallel-item::before {content: \"\";position: absolute;border-left: 1px solid gray;box-sizing: border-box;top: 0;bottom: 0;left: 50%;z-index: -1;}#sk-container-id-2 div.sk-parallel-item {display: flex;flex-direction: column;z-index: 1;position: relative;background-color: white;}#sk-container-id-2 div.sk-parallel-item:first-child::after {align-self: flex-end;width: 50%;}#sk-container-id-2 div.sk-parallel-item:last-child::after {align-self: flex-start;width: 50%;}#sk-container-id-2 div.sk-parallel-item:only-child::after {width: 0;}#sk-container-id-2 div.sk-dashed-wrapped {border: 1px dashed gray;margin: 0 0.4em 0.5em 0.4em;box-sizing: border-box;padding-bottom: 0.4em;background-color: white;}#sk-container-id-2 div.sk-label label {font-family: monospace;font-weight: bold;display: inline-block;line-height: 1.2em;}#sk-container-id-2 div.sk-label-container {text-align: center;}#sk-container-id-2 div.sk-container {/* jupyter's `normalize.less` sets `[hidden] { display: none; }` but bootstrap.min.css set `[hidden] { display: none !important; }` so we also need the `!important` here to be able to override the default hidden behavior on the sphinx rendered scikit-learn.org. See: https://github.com/scikit-learn/scikit-learn/issues/21755 */display: inline-block !important;position: relative;}#sk-container-id-2 div.sk-text-repr-fallback {display: none;}</style><div id=\"sk-container-id-2\" class=\"sk-top-container\"><div class=\"sk-text-repr-fallback\"><pre>MultinomialNB()</pre><b>In a Jupyter environment, please rerun this cell to show the HTML representation or trust the notebook. <br />On GitHub, the HTML representation is unable to render, please try loading this page with nbviewer.org.</b></div><div class=\"sk-container\" hidden><div class=\"sk-item\"><div class=\"sk-estimator sk-toggleable\"><input class=\"sk-toggleable__control sk-hidden--visually\" id=\"sk-estimator-id-2\" type=\"checkbox\" checked><label for=\"sk-estimator-id-2\" class=\"sk-toggleable__label sk-toggleable__label-arrow\">MultinomialNB</label><div class=\"sk-toggleable__content\"><pre>MultinomialNB()</pre></div></div></div></div></div>"
      ],
      "text/plain": [
       "MultinomialNB()"
      ]
     },
     "execution_count": 12,
     "metadata": {},
     "output_type": "execute_result"
    }
   ],
   "source": [
    "# naive bayes\n",
    "from sklearn.naive_bayes import MultinomialNB\n",
    "naive = MultinomialNB()\n",
    "naive.fit(X_train, y_train)"
   ]
  },
  {
   "cell_type": "code",
   "execution_count": 13,
   "metadata": {},
   "outputs": [
    {
     "name": "stdout",
     "output_type": "stream",
     "text": [
      "accuracy:  0.7889905604463912\n"
     ]
    }
   ],
   "source": [
    "y_pred = naive.predict(X_val)\n",
    "\n",
    "accuracy = accuracy_score(y_val, y_pred)\n",
    "print(\"accuracy: \", accuracy)"
   ]
  },
  {
   "cell_type": "code",
   "execution_count": 13,
   "metadata": {},
   "outputs": [
    {
     "name": "stdout",
     "output_type": "stream",
     "text": [
      "percent reliable:  63.6764059626927\n",
      "percent fake:  36.3235940373073\n"
     ]
    }
   ],
   "source": [
    "# check percent of reliable in data\n",
    "number_of_reliable = cleaned_stemmed['type'].value_counts()['reliable']\n",
    "number_of_fake = cleaned_stemmed['type'].value_counts()['fake']\n",
    "\n",
    "percent_reliable = number_of_reliable / (number_of_reliable + number_of_fake) * 100\n",
    "print(\"percent reliable: \", percent_reliable)\n",
    "\n",
    "percent_face = number_of_fake / (number_of_reliable + number_of_fake) * 100\n",
    "print(\"percent fake: \", percent_face)"
   ]
  },
  {
   "cell_type": "code",
   "execution_count": 15,
   "metadata": {},
   "outputs": [],
   "source": [
    "extra_data = pd.read_csv('collected_articles.csv', dtype=str)\n"
   ]
  },
  {
   "cell_type": "code",
   "execution_count": 18,
   "metadata": {},
   "outputs": [
    {
     "name": "stdout",
     "output_type": "stream",
     "text": [
      "Index(['content', 'type'], dtype='object')\n"
     ]
    }
   ],
   "source": [
    "# print(extra_data.columns)\n",
    "# create a new csv with the 'content' and type columns and give all the articles the type 'reliable'\n",
    "extra_data = extra_data[['content']]\n",
    "extra_data['type'] = 'reliable'\n",
    "\n",
    "print(extra_data.columns)"
   ]
  },
  {
   "cell_type": "code",
   "execution_count": 20,
   "metadata": {},
   "outputs": [],
   "source": [
    "cleaned_data = pd.read_csv('cleaned_tokenized_stemmed_Bigdata.csv', dtype=str)\n",
    "\n",
    "# clean the extra data\n",
    "extra_data['content'] = extra_data['content'].apply(cleanText)\n",
    "\n",
    "\n"
   ]
  },
  {
   "cell_type": "code",
   "execution_count": 21,
   "metadata": {},
   "outputs": [],
   "source": [
    "# tokenize the extra data\n",
    "extra_data['tokens'] = extra_data['content'].apply(nltk.word_tokenize)"
   ]
  },
  {
   "cell_type": "code",
   "execution_count": 29,
   "metadata": {},
   "outputs": [],
   "source": [
    "# stem the extra data\n",
    "extra_data['processed_tokens'] = extra_data['tokens'].apply(process_tokens).apply(lambda x: ' '.join(x))\n"
   ]
  },
  {
   "cell_type": "code",
   "execution_count": 32,
   "metadata": {},
   "outputs": [],
   "source": [
    "# now add the extra data to the cleaned_data\n",
    "data_with_extra = pd.concat([cleaned_data, extra_data], ignore_index=True)\n",
    "\n",
    "# remove any rows with missing values in the 'processed_tokens' column\n",
    "data_with_extra = data_with_extra.dropna(subset=['processed_tokens'])\n"
   ]
  },
  {
   "cell_type": "code",
   "execution_count": 33,
   "metadata": {},
   "outputs": [],
   "source": [
    "X = CountVectorizer.fit_transform(data_with_extra['processed_tokens'])\n",
    "\n",
    "X_train, X_test_1, y_train, y_test_1  = train_test_split(X, data_with_extra['type'], test_size=0.2, random_state=42)\n",
    "X_val, X_test, y_val, y_test = train_test_split(X_test_1, y_test_1, test_size=0.5, random_state=42)"
   ]
  },
  {
   "cell_type": "code",
   "execution_count": 34,
   "metadata": {},
   "outputs": [
    {
     "data": {
      "text/html": [
       "<style>#sk-container-id-2 {color: black;}#sk-container-id-2 pre{padding: 0;}#sk-container-id-2 div.sk-toggleable {background-color: white;}#sk-container-id-2 label.sk-toggleable__label {cursor: pointer;display: block;width: 100%;margin-bottom: 0;padding: 0.3em;box-sizing: border-box;text-align: center;}#sk-container-id-2 label.sk-toggleable__label-arrow:before {content: \"▸\";float: left;margin-right: 0.25em;color: #696969;}#sk-container-id-2 label.sk-toggleable__label-arrow:hover:before {color: black;}#sk-container-id-2 div.sk-estimator:hover label.sk-toggleable__label-arrow:before {color: black;}#sk-container-id-2 div.sk-toggleable__content {max-height: 0;max-width: 0;overflow: hidden;text-align: left;background-color: #f0f8ff;}#sk-container-id-2 div.sk-toggleable__content pre {margin: 0.2em;color: black;border-radius: 0.25em;background-color: #f0f8ff;}#sk-container-id-2 input.sk-toggleable__control:checked~div.sk-toggleable__content {max-height: 200px;max-width: 100%;overflow: auto;}#sk-container-id-2 input.sk-toggleable__control:checked~label.sk-toggleable__label-arrow:before {content: \"▾\";}#sk-container-id-2 div.sk-estimator input.sk-toggleable__control:checked~label.sk-toggleable__label {background-color: #d4ebff;}#sk-container-id-2 div.sk-label input.sk-toggleable__control:checked~label.sk-toggleable__label {background-color: #d4ebff;}#sk-container-id-2 input.sk-hidden--visually {border: 0;clip: rect(1px 1px 1px 1px);clip: rect(1px, 1px, 1px, 1px);height: 1px;margin: -1px;overflow: hidden;padding: 0;position: absolute;width: 1px;}#sk-container-id-2 div.sk-estimator {font-family: monospace;background-color: #f0f8ff;border: 1px dotted black;border-radius: 0.25em;box-sizing: border-box;margin-bottom: 0.5em;}#sk-container-id-2 div.sk-estimator:hover {background-color: #d4ebff;}#sk-container-id-2 div.sk-parallel-item::after {content: \"\";width: 100%;border-bottom: 1px solid gray;flex-grow: 1;}#sk-container-id-2 div.sk-label:hover label.sk-toggleable__label {background-color: #d4ebff;}#sk-container-id-2 div.sk-serial::before {content: \"\";position: absolute;border-left: 1px solid gray;box-sizing: border-box;top: 0;bottom: 0;left: 50%;z-index: 0;}#sk-container-id-2 div.sk-serial {display: flex;flex-direction: column;align-items: center;background-color: white;padding-right: 0.2em;padding-left: 0.2em;position: relative;}#sk-container-id-2 div.sk-item {position: relative;z-index: 1;}#sk-container-id-2 div.sk-parallel {display: flex;align-items: stretch;justify-content: center;background-color: white;position: relative;}#sk-container-id-2 div.sk-item::before, #sk-container-id-2 div.sk-parallel-item::before {content: \"\";position: absolute;border-left: 1px solid gray;box-sizing: border-box;top: 0;bottom: 0;left: 50%;z-index: -1;}#sk-container-id-2 div.sk-parallel-item {display: flex;flex-direction: column;z-index: 1;position: relative;background-color: white;}#sk-container-id-2 div.sk-parallel-item:first-child::after {align-self: flex-end;width: 50%;}#sk-container-id-2 div.sk-parallel-item:last-child::after {align-self: flex-start;width: 50%;}#sk-container-id-2 div.sk-parallel-item:only-child::after {width: 0;}#sk-container-id-2 div.sk-dashed-wrapped {border: 1px dashed gray;margin: 0 0.4em 0.5em 0.4em;box-sizing: border-box;padding-bottom: 0.4em;background-color: white;}#sk-container-id-2 div.sk-label label {font-family: monospace;font-weight: bold;display: inline-block;line-height: 1.2em;}#sk-container-id-2 div.sk-label-container {text-align: center;}#sk-container-id-2 div.sk-container {/* jupyter's `normalize.less` sets `[hidden] { display: none; }` but bootstrap.min.css set `[hidden] { display: none !important; }` so we also need the `!important` here to be able to override the default hidden behavior on the sphinx rendered scikit-learn.org. See: https://github.com/scikit-learn/scikit-learn/issues/21755 */display: inline-block !important;position: relative;}#sk-container-id-2 div.sk-text-repr-fallback {display: none;}</style><div id=\"sk-container-id-2\" class=\"sk-top-container\"><div class=\"sk-text-repr-fallback\"><pre>LogisticRegression(max_iter=2000, random_state=42)</pre><b>In a Jupyter environment, please rerun this cell to show the HTML representation or trust the notebook. <br />On GitHub, the HTML representation is unable to render, please try loading this page with nbviewer.org.</b></div><div class=\"sk-container\" hidden><div class=\"sk-item\"><div class=\"sk-estimator sk-toggleable\"><input class=\"sk-toggleable__control sk-hidden--visually\" id=\"sk-estimator-id-2\" type=\"checkbox\" checked><label for=\"sk-estimator-id-2\" class=\"sk-toggleable__label sk-toggleable__label-arrow\">LogisticRegression</label><div class=\"sk-toggleable__content\"><pre>LogisticRegression(max_iter=2000, random_state=42)</pre></div></div></div></div></div>"
      ],
      "text/plain": [
       "LogisticRegression(max_iter=2000, random_state=42)"
      ]
     },
     "execution_count": 34,
     "metadata": {},
     "output_type": "execute_result"
    }
   ],
   "source": [
    "logistic_model = LogisticRegression(max_iter=2000, random_state=42)\n",
    "\n",
    "scale = StandardScaler(with_mean=False)\n",
    "\n",
    "X_train = scale.fit_transform(X_train)\n",
    "X_val = scale.transform(X_val)\n",
    "\n",
    "logistic_model.fit(X_train, y_train)"
   ]
  },
  {
   "cell_type": "code",
   "execution_count": 35,
   "metadata": {},
   "outputs": [
    {
     "name": "stdout",
     "output_type": "stream",
     "text": [
      "accuracy:  0.8735107591920525\n"
     ]
    }
   ],
   "source": [
    "y_pred = logistic_model.predict(X_val)\n",
    "accuracy = accuracy_score(y_val, y_pred)\n",
    "print(\"accuracy: \", accuracy)"
   ]
  },
  {
   "cell_type": "code",
   "execution_count": null,
   "metadata": {},
   "outputs": [],
   "source": [
    "# print(result.head())\n",
    "\n",
    "# pattern_URL = r'(http|https)://[^\\s]*'\n",
    "# pattern_NUM = r'\\d+'\n",
    "\n",
    "# number_of_numbers = 0\n",
    "\n",
    "# data['content'] = data['content'].apply(cleanText)\n",
    " \n",
    "# for content in data['content']:\n",
    "#     number_of_numbers += len(re.findall(pattern_NUM, content))\n",
    "\n",
    "# def process_part_of_data(data):\n",
    "#     data['content'] = data['content'].apply(cleanText)\n",
    "#     return data\n",
    "\n",
    "\n",
    "# chunk_size = 9950\n",
    "\n",
    "# chunks = list(pd.read_csv('995,000_rows.csv', chunksize=chunk_size))\n",
    "# # print(\"number of chunks: \", len(chunks))\n",
    "\n",
    "# with Pool() as pool:\n",
    "#     final_chunks = pool.map(process_part_of_data, chunks)\n",
    "\n",
    "# final_data = pd.concat(final_chunks)\n",
    "\n",
    "# for chunk in pd.read_csv('995,000_rows.csv', chunksize=chunk_size):\n",
    "#     with Pool(4) as p:\n",
    "#         data = p.map(process_part_of_data, [chunk])\n",
    "#         print(data)\n",
    "#         # data.to_csv('cleaned_Bigdata.csv', index=False)\n",
    "\n",
    "    \n"
   ]
  },
  {
   "cell_type": "code",
   "execution_count": null,
   "metadata": {},
   "outputs": [],
   "source": [
    "# print(data['content'].head(10))\n",
    "\n"
   ]
  }
 ],
 "metadata": {
  "kernelspec": {
   "display_name": "base",
   "language": "python",
   "name": "python3"
  },
  "language_info": {
   "codemirror_mode": {
    "name": "ipython",
    "version": 3
   },
   "file_extension": ".py",
   "mimetype": "text/x-python",
   "name": "python",
   "nbconvert_exporter": "python",
   "pygments_lexer": "ipython3",
   "version": "3.11.5"
  }
 },
 "nbformat": 4,
 "nbformat_minor": 2
}
